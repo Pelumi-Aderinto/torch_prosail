{
 "cells": [
  {
   "cell_type": "code",
   "execution_count": 1,
   "metadata": {},
   "outputs": [],
   "source": [
    "import numpy as np\n",
    "import torch\n",
    "import prosail\n",
    "\n",
    "# x = np.load('C:/Users/USER/Downloads/prosailpython-torchport/prosailpython-torchport/tests/data/prosail_params.npy')"
   ]
  },
  {
   "cell_type": "code",
   "execution_count": null,
   "metadata": {},
   "outputs": [
    {
     "name": "stdout",
     "output_type": "stream",
     "text": [
      "✅ run_prosail executed successfully!\n",
      "Output shape: torch.Size([5000, 2101])\n",
      "Sample output: tensor([[0.0270, 0.0270, 0.0270,  ..., 0.0162, 0.0161, 0.0161],\n",
      "        [0.0335, 0.0335, 0.0335,  ..., 0.0191, 0.0190, 0.0191],\n",
      "        [0.0268, 0.0268, 0.0268,  ..., 0.0148, 0.0148, 0.0148],\n",
      "        [0.0377, 0.0377, 0.0377,  ..., 0.0328, 0.0325, 0.0326],\n",
      "        [0.0304, 0.0305, 0.0305,  ..., 0.0349, 0.0347, 0.0348]])\n"
     ]
    }
   ],
   "source": [
    "import torch\n",
    "import prosail\n",
    "\n",
    "# Import your `run_prosail` function from your module if needed:\n",
    "# from your_module import run_prosail\n",
    "\n",
    "# Define batch size\n",
    "batch_size = 5000  # Testing with 10 samples\n",
    "\n",
    "# Generate random test inputs\n",
    "N = torch.rand(batch_size) * 2.5 + 1.2  # Between 1.2 and 3.7\n",
    "cab = torch.rand(batch_size) * 60 + 20   # Between 20 and 80\n",
    "car = torch.rand(batch_size) * 15 + 5    # Between 5 and 20\n",
    "cbrown = torch.rand(batch_size) * 2      # Between 0 and 2\n",
    "cw = torch.rand(batch_size) * 0.015 + 0.005  # Between 0.005 and 0.02\n",
    "cm = torch.rand(batch_size) * 0.015 + 0.005  # Between 0.005 and 0.02\n",
    "lai = torch.rand(batch_size) * 6 + 2     # Between 2 and 8\n",
    "lidfa = torch.rand(batch_size) * 30      # Between 0 and 30\n",
    "hspot = torch.rand(batch_size) * 0.5     # Between 0 and 0.5\n",
    "rsoil = torch.rand(batch_size) * 0.3 + 0.1  # Between 0.1 and 0.4\n",
    "psoil = torch.rand(batch_size) * 0.4 + 0.1  # Between 0.1 and 0.5\n",
    "tts = torch.rand(batch_size) * 60        # Between 0 and 60 degrees\n",
    "tto = torch.rand(batch_size) * 60        # Between 0 and 60 degrees\n",
    "psi = torch.rand(batch_size) * 180       # Between 0 and 180 degrees\n",
    "\n",
    "# Fix shape mismatches\n",
    "N = N.view(-1, 1)\n",
    "cab = cab.view(-1, 1)\n",
    "car = car.view(-1, 1)\n",
    "cbrown = cbrown.view(-1, 1)\n",
    "cw = cw.view(-1, 1)\n",
    "cm = cm.view(-1, 1)\n",
    "lai = lai.view(-1, 1)\n",
    "lidfa = lidfa.view(-1, 1)\n",
    "hspot = hspot.view(-1, 1)\n",
    "rsoil = rsoil.view(-1, 1)\n",
    "psoil = psoil.view(-1, 1)\n",
    "tts = tts.view(-1, 1)\n",
    "tto = tto.view(-1, 1)\n",
    "psi = psi.view(-1, 1)\n",
    "\n",
    "# Call the function with test inputs\n",
    "try:\n",
    "    output = prosail.run_prosail(\n",
    "        N, cab, car, cbrown, cw, cm, lai, lidfa, hspot, rsoil, psoil, tts, tto, psi,\n",
    "        factor=\"SDR\",  # Choosing SDR as the return type\n",
    "        init_spectra=True  # Assuming spectra are already initialized\n",
    "    )\n",
    "    \n",
    "    print(\"✅ run_prosail executed successfully!\")\n",
    "    print(\"Output shape:\", output.shape)  # Should be (batch_size, num_wavelengths)\n",
    "    print(\"Sample output:\", output[:5])  # Print first 5 samples\n",
    "\n",
    "except Exception as e:\n",
    "    print(\"❌ run_prosail encountered an error:\")\n",
    "    print(e)\n"
   ]
  },
  {
   "cell_type": "code",
   "execution_count": 7,
   "metadata": {},
   "outputs": [
    {
     "name": "stdout",
     "output_type": "stream",
     "text": [
      "Using device: cpu\n",
      "✅ run_prosail executed successfully!\n",
      "Output shape: torch.Size([1000, 2101])\n",
      "Sample output (first 5):\n",
      " tensor([[0.0248, 0.0248, 0.0248,  ..., 0.0246, 0.0244, 0.0244],\n",
      "        [0.0285, 0.0285, 0.0284,  ..., 0.0521, 0.0518, 0.0517],\n",
      "        [0.0336, 0.0337, 0.0337,  ..., 0.0418, 0.0414, 0.0417],\n",
      "        [0.0302, 0.0301, 0.0300,  ..., 0.0536, 0.0532, 0.0533],\n",
      "        [0.0290, 0.0291, 0.0291,  ..., 0.0487, 0.0483, 0.0487]])\n"
     ]
    }
   ],
   "source": [
    "import torch\n",
    "import prosail\n",
    "\n",
    "# --- Optional: For reproducibility\n",
    "torch.manual_seed(42)\n",
    "\n",
    "# --- If you want to use GPU\n",
    "device = \"cuda\" if torch.cuda.is_available() else \"cpu\"\n",
    "print(\"Using device:\", device)\n",
    "\n",
    "# --- Batch size\n",
    "batch_size = 1000\n",
    "\n",
    "# --- Generate random parameters directly in Nx1 shape\n",
    "N      = torch.rand((batch_size, 1), device=device) * 2.5 + 1.2\n",
    "cab    = torch.rand((batch_size, 1), device=device) * 60 + 20\n",
    "car    = torch.rand((batch_size, 1), device=device) * 15 + 5\n",
    "cbrown = torch.rand((batch_size, 1), device=device) * 2\n",
    "cw     = torch.rand((batch_size, 1), device=device) * 0.015 + 0.005\n",
    "cm     = torch.rand((batch_size, 1), device=device) * 0.015 + 0.005\n",
    "lai    = torch.rand((batch_size, 1), device=device) * 6 + 2\n",
    "lidfa  = torch.rand((batch_size, 1), device=device) * 30\n",
    "hspot  = torch.rand((batch_size, 1), device=device) * 0.5\n",
    "rsoil  = torch.rand((batch_size, 1), device=device) * 0.3 + 0.1\n",
    "psoil  = torch.rand((batch_size, 1), device=device) * 0.4 + 0.1\n",
    "tts    = torch.rand((batch_size, 1), device=device) * 60\n",
    "tto    = torch.rand((batch_size, 1), device=device) * 60\n",
    "psi    = torch.rand((batch_size, 1), device=device) * 180\n",
    "\n",
    "# --- Call run_prosail\n",
    "try:\n",
    "    # For the first call, we set init_spectra=True; \n",
    "    # if you do repeated calls, consider setting init_spectra=False for the rest.\n",
    "    output = prosail.run_prosail(\n",
    "        N, cab, car, cbrown, cw, cm, lai, lidfa, hspot, rsoil, psoil,\n",
    "        tts, tto, psi,\n",
    "        factor=\"SDR\",\n",
    "        init_spectra=True\n",
    "    )\n",
    "    \n",
    "    # The output should have shape [batch_size, num_wavelengths]\n",
    "    print(\"✅ run_prosail executed successfully!\")\n",
    "    print(\"Output shape:\", output.shape)\n",
    "    print(\"Sample output (first 5):\\n\", output[:5])\n",
    "\n",
    "except Exception as e:\n",
    "    print(\"❌ run_prosail encountered an error:\")\n",
    "    print(e)\n"
   ]
  },
  {
   "cell_type": "code",
   "execution_count": 8,
   "metadata": {},
   "outputs": [
    {
     "data": {
      "text/plain": [
       "torch.Size([2101])"
      ]
     },
     "execution_count": 8,
     "metadata": {},
     "output_type": "execute_result"
    }
   ],
   "source": [
    "output[0].shape"
   ]
  },
  {
   "cell_type": "code",
   "execution_count": 10,
   "metadata": {},
   "outputs": [
    {
     "data": {
      "text/plain": [
       "[<matplotlib.lines.Line2D at 0x2c3b6f08290>]"
      ]
     },
     "execution_count": 10,
     "metadata": {},
     "output_type": "execute_result"
    },
    {
     "data": {
      "image/png": "[encoded data removed]",
      "text/plain": [
       "<Figure size 640x480 with 1 Axes>"
      ]
     },
     "metadata": {},
     "output_type": "display_data"
    }
   ],
   "source": [
    "import matplotlib.pyplot as plt\n",
    "plt.plot(output[500])"
   ]
  },
  {
   "cell_type": "code",
   "execution_count": 49,
   "metadata": {},
   "outputs": [
    {
     "data": {
      "text/plain": [
       "torch.Size([100, 2101])"
      ]
     },
     "execution_count": 49,
     "metadata": {},
     "output_type": "execute_result"
    }
   ],
   "source": [
    "rr.shape"
   ]
  },
  {
   "cell_type": "code",
   "execution_count": null,
   "metadata": {},
   "outputs": [],
   "source": []
  },
  {
   "cell_type": "code",
   "execution_count": 19,
   "metadata": {},
   "outputs": [
    {
     "name": "stdout",
     "output_type": "stream",
     "text": [
      "Output shape: torch.Size([5, 10])\n",
      "Sample output (first 2):\n",
      " tensor([[0.0242, 0.0242, 0.0243, 0.0243, 0.0243, 0.0244, 0.0245, 0.0245, 0.0246,\n",
      "         0.0247],\n",
      "        [0.0203, 0.0203, 0.0203, 0.0204, 0.0204, 0.0205, 0.0205, 0.0206, 0.0206,\n",
      "         0.0207]])\n"
     ]
    }
   ],
   "source": [
    "import torch\n",
    "\n",
    "def prosail_reconstruct(predicted_latent, other_params):\n",
    "    \"\"\"\n",
    "    predicted_latent: (batch_size, 3) -> [lai, cab, cw]\n",
    "    other_params:     (batch_size, 9) -> [n, car, cbrown, cm, lidfa, lidfb, rsoil, psoil, hspot]\n",
    "    \n",
    "    Returns reflectance with shape: (batch_size, num_waves)\n",
    "    \"\"\"\n",
    "    # Split out\n",
    "    lai = predicted_latent[:, 0].unsqueeze(-1)\n",
    "    cab = predicted_latent[:, 1].unsqueeze(-1)\n",
    "    cw  = predicted_latent[:, 2].unsqueeze(-1)\n",
    "\n",
    "    n      = other_params[:, 0].unsqueeze(-1)\n",
    "    car    = other_params[:, 1].unsqueeze(-1)\n",
    "    cbrown = other_params[:, 2].unsqueeze(-1)\n",
    "    cm     = other_params[:, 3].unsqueeze(-1)\n",
    "    lidfa  = other_params[:, 4].unsqueeze(-1)\n",
    "    # lidfb  = other_params[:, 5].unsqueeze(-1)\n",
    "    rsoil  = other_params[:, 6].unsqueeze(-1)\n",
    "    psoil  = other_params[:, 7].unsqueeze(-1)\n",
    "    hspot  = other_params[:, 8].unsqueeze(-1)\n",
    "\n",
    "    # Fix geometry for consistency\n",
    "    tts = torch.full_like(n, 30.0)\n",
    "    tto = torch.full_like(n, 0.0)\n",
    "    psi = torch.full_like(n, 0.0)\n",
    "    # typelidf = 1 is integer, might have to pass as shape Nx1 int or just keep it default\n",
    "    # typelidf = torch.twos_like(n, dtype=torch.int32)\n",
    "\n",
    "    # Run PROSAIL in batch\n",
    "    reflectance = prosail.run_prosail(\n",
    "        n, cab, car, cbrown, cw, cm, lai,\n",
    "        lidfa, hspot, rsoil, psoil,\n",
    "        tts, tto, psi,\n",
    "        factor=\"SDR\",\n",
    "        init_spectra=True  # Typically only do init_spectra=True once to save overhead\n",
    "    )\n",
    "    return reflectance[:, :10]  # shape: (batch_size, wavebands)\n",
    "\n",
    "\n",
    "def test_prosail_reconstruct():\n",
    "    # Suppose we have a batch size of 5\n",
    "    # predicted_latent (batch_size=5, 3) -> [lai, cab, cw]\n",
    "    predicted_latent = torch.tensor([\n",
    "        [3.0, 60.0, 0.01],\n",
    "        [2.5, 70.0, 0.015],\n",
    "        [2.8, 55.0, 0.02],\n",
    "        [3.1, 65.0, 0.01],\n",
    "        [2.2, 50.0, 0.015]\n",
    "    ], dtype=torch.float)\n",
    "\n",
    "    # other_params (batch_size=5, 9) -> [n, car, cbrown, cm, lidfa, lidfb, rsoil, psoil, hspot]\n",
    "    other_params = torch.tensor([\n",
    "        [1.5,  10.0, 0.5,  0.01,  -0.3,  0.2, 0.2,  0.3,  0.05],\n",
    "        [1.8,  12.0, 1.0,  0.02,   0.4, -0.3, 0.1,  0.2,  0.00],\n",
    "        [1.6,   8.0, 0.7,  0.01,   0.5,  0.5, 0.15, 0.25, 0.05],\n",
    "        [1.3,  14.0, 0.1,  0.015,  0.2, -0.1, 0.3,  0.4,  0.02],\n",
    "        [1.1,   9.0, 0.2,  0.009,  0.1,  0.4, 0.2,  0.35, 0.03]\n",
    "    ], dtype=torch.float)\n",
    "\n",
    "    # Call the reconstruction\n",
    "    reflectance = prosail_reconstruct(predicted_latent, other_params)\n",
    "    \n",
    "    # Print results\n",
    "    print(\"Output shape:\", reflectance.shape)\n",
    "    print(\"Sample output (first 2):\\n\", reflectance[:2])\n",
    "    return reflectance\n",
    "# Run the test\n",
    "reflectance = test_prosail_reconstruct()\n"
   ]
  },
  {
   "cell_type": "code",
   "execution_count": 18,
   "metadata": {},
   "outputs": [
    {
     "data": {
      "text/plain": [
       "torch.Size([5, 2101])"
      ]
     },
     "execution_count": 18,
     "metadata": {},
     "output_type": "execute_result"
    }
   ],
   "source": [
    "reflectance.shape"
   ]
  },
  {
   "cell_type": "code",
   "execution_count": 15,
   "metadata": {},
   "outputs": [
    {
     "data": {
      "text/plain": [
       "[<matplotlib.lines.Line2D at 0x2c3b7fabe00>]"
      ]
     },
     "execution_count": 15,
     "metadata": {},
     "output_type": "execute_result"
    },
    {
     "data": {
      "image/png": "[encoded data removed]",
      "text/plain": [
       "<Figure size 640x480 with 1 Axes>"
      ]
     },
     "metadata": {},
     "output_type": "display_data"
    }
   ],
   "source": [
    "plt.plot(reflectance[0])"
   ]
  },
  {
   "cell_type": "code",
   "execution_count": null,
   "metadata": {},
   "outputs": [],
   "source": []
  },
  {
   "cell_type": "code",
   "execution_count": null,
   "metadata": {},
   "outputs": [],
   "source": []
  },
  {
   "cell_type": "code",
   "execution_count": null,
   "metadata": {},
   "outputs": [],
   "source": []
  }
 ],
 "metadata": {
  "kernelspec": {
   "display_name": "venv",
   "language": "python",
   "name": "python3"
  },
  "language_info": {
   "codemirror_mode": {
    "name": "ipython",
    "version": 3
   },
   "file_extension": ".py",
   "mimetype": "text/x-python",
   "name": "python",
   "nbconvert_exporter": "python",
   "pygments_lexer": "ipython3",
   "version": "3.12.2"
  }
 },
 "nbformat": 4,
 "nbformat_minor": 2
}
